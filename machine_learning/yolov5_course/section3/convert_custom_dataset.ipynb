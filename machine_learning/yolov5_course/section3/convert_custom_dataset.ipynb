{
 "cells": [
  {
   "cell_type": "markdown",
   "id": "2942eabc",
   "metadata": {},
   "source": [
    "# 🎓 YOLO v5 Objects Detection: Label, Train and Test\n",
    "\n",
    "### &nbsp; &nbsp; 🎛️ Section 3: Create custom dataset in YOLO format\n",
    "#### &nbsp; &nbsp; &nbsp; 🔣 Lecture: Convert custom dataset in YOLO\n",
    "\n",
    "&nbsp; &nbsp; &nbsp; &nbsp; &nbsp; &nbsp; &nbsp;**Description:**  \n",
    "&nbsp; &nbsp; &nbsp; &nbsp; &nbsp; &nbsp; &nbsp;*`Transform` annotations of downloaded images in YOLO format. `Validate` successful transformation.*  \n",
    "\n",
    "&nbsp; &nbsp; &nbsp; &nbsp; &nbsp; &nbsp; &nbsp;**File:** *`convert_custom_dataset.ipynb`*  \n"
   ]
  },
  {
   "cell_type": "markdown",
   "id": "10657b59",
   "metadata": {},
   "source": [
    "### 💡 Algorithm:<a name=\"algorithm\"></a>\n",
    "\n",
    "**✔️ Step 1:** [Set up prerequisites](#step1)  \n",
    "**✔️ Step 2:** [Convert custom dataset in YOLO](#step2)  \n",
    "**✔️ Step 3:** [Load converted dataset from hard drive](#step3)  \n",
    "  \n",
    "  \n",
    "### 🎯 **Results:**  \n",
    "**✅ Converted custom dataset** with images and annotations **in YOLO format**  \n"
   ]
  },
  {
   "cell_type": "markdown",
   "id": "d901ea62",
   "metadata": {},
   "source": [
    "<a name=\"step1\"></a>"
   ]
  },
  {
   "cell_type": "markdown",
   "id": "d0eccc72",
   "metadata": {},
   "source": [
    " ⇧ [Back to Algorithm](#algorithm)"
   ]
  },
  {
   "cell_type": "markdown",
   "id": "f0d89c6b",
   "metadata": {},
   "source": [
    "# 📥 Step 1: Set up prerequisites"
   ]
  },
  {
   "cell_type": "markdown",
   "id": "36da85c5",
   "metadata": {},
   "source": [
    "&nbsp;&nbsp;&nbsp;&nbsp;&nbsp;&nbsp;&nbsp;&nbsp;&nbsp;&nbsp;📜 **Content:**  \n",
    "\n",
    "&nbsp;&nbsp;&nbsp;&nbsp;&nbsp;&nbsp;&nbsp;&nbsp;&nbsp;&nbsp;💠 1.**1** **Load** needed libraries  \n",
    "&nbsp;&nbsp;&nbsp;&nbsp;&nbsp;&nbsp;&nbsp;&nbsp;&nbsp;&nbsp;💠 1.**2** **Change** active directory"
   ]
  },
  {
   "cell_type": "markdown",
   "id": "918f621b",
   "metadata": {},
   "source": [
    "&nbsp;"
   ]
  },
  {
   "cell_type": "markdown",
   "id": "e7ff6481",
   "metadata": {},
   "source": [
    "### 💠 1.1 Load needed libraries"
   ]
  },
  {
   "cell_type": "code",
   "execution_count": null,
   "id": "9e5c0b05",
   "metadata": {},
   "outputs": [],
   "source": [
    "import fiftyone as fo          # To use all the FiftyOne functionality\n",
    "import os                      # To use operating system dependent functionality\n",
    "\n",
    "\n",
    "# Check point\n",
    "# Hint: to print emoji via Unicode, replace '+' with '000' and add prefix '\\'\n",
    "# For instance, emoji with Unicode 'U+1F44C' can be printed as '\\U0001F44C'\n",
    "print(\"Libraries are successfully loaded \\U0001F44C\")\n",
    "print()\n"
   ]
  },
  {
   "cell_type": "markdown",
   "id": "0b7de298",
   "metadata": {},
   "source": [
    "&nbsp;"
   ]
  },
  {
   "cell_type": "markdown",
   "id": "e5efd421",
   "metadata": {},
   "source": [
    "### 💠 1.2 Change active directory"
   ]
  },
  {
   "cell_type": "code",
   "execution_count": null,
   "id": "8d674e11",
   "metadata": {},
   "outputs": [],
   "source": [
    "# Check point\n",
    "# Showing currently active directory\n",
    "print('Currently active directory is:')\n",
    "print(os.getcwd())\n",
    "print()\n"
   ]
  },
  {
   "cell_type": "code",
   "execution_count": null,
   "id": "c43f9066",
   "metadata": {},
   "outputs": [],
   "source": [
    "# Preparing directory to be activated\n",
    "directory_custom_dataset = os.path.join(os.getcwd(), \"custom_dataset\")\n",
    "\n",
    "\n",
    "# Check point\n",
    "print('The directory to be activated is:')\n",
    "print(directory_custom_dataset)\n",
    "print()\n"
   ]
  },
  {
   "cell_type": "code",
   "execution_count": null,
   "id": "30ebc5df",
   "metadata": {},
   "outputs": [],
   "source": [
    "# Activating needed directory\n",
    "os.chdir(directory_custom_dataset)\n",
    "\n",
    "\n",
    "# Check point\n",
    "print(\"The needed directory is successfully activated \\U0001F44C\")\n",
    "print()\n"
   ]
  },
  {
   "cell_type": "code",
   "execution_count": null,
   "id": "d4d57bfe",
   "metadata": {
    "scrolled": true
   },
   "outputs": [],
   "source": [
    "# Check point\n",
    "# Showing currently active directory\n",
    "print('Currently active directory is:')\n",
    "print(os.getcwd())\n",
    "print()\n"
   ]
  },
  {
   "cell_type": "markdown",
   "id": "528d07fe",
   "metadata": {},
   "source": [
    "&nbsp;"
   ]
  },
  {
   "cell_type": "markdown",
   "id": "3154bc2c",
   "metadata": {},
   "source": [
    "<a name=\"step2\"></a>"
   ]
  },
  {
   "cell_type": "markdown",
   "id": "d4c3ca12",
   "metadata": {},
   "source": [
    " ⇧ [Back to Algorithm](#algorithm) &nbsp;&nbsp;&nbsp;&nbsp;&nbsp; ⇧ [Back to Step 1 content](#step1)"
   ]
  },
  {
   "cell_type": "markdown",
   "id": "c3001ec9",
   "metadata": {},
   "source": [
    "# 🖼️ Step 2: Convert custom dataset in YOLO"
   ]
  },
  {
   "cell_type": "markdown",
   "id": "702d390d",
   "metadata": {},
   "source": [
    "&nbsp;&nbsp;&nbsp;&nbsp;&nbsp;&nbsp;&nbsp;&nbsp;&nbsp;&nbsp;📜 **Content:**  \n",
    "\n",
    "&nbsp;&nbsp;&nbsp;&nbsp;&nbsp;&nbsp;&nbsp;&nbsp;&nbsp;&nbsp;💠 2.**1** **Load** custom dataset directly from FiftyOne  \n",
    "&nbsp;&nbsp;&nbsp;&nbsp;&nbsp;&nbsp;&nbsp;&nbsp;&nbsp;&nbsp;💠 2.**2** **Convert** in YOLO format for v4 version  \n",
    "&nbsp;&nbsp;&nbsp;&nbsp;&nbsp;&nbsp;&nbsp;&nbsp;&nbsp;&nbsp;💠 2.**3** **Convert** in YOLO format for v5 version  "
   ]
  },
  {
   "cell_type": "markdown",
   "id": "7489b3c9",
   "metadata": {},
   "source": [
    "&nbsp;"
   ]
  },
  {
   "cell_type": "markdown",
   "id": "aefca08d",
   "metadata": {},
   "source": [
    "### 💠 2.**1** Load custom dataset directly from FiftyOne"
   ]
  },
  {
   "cell_type": "code",
   "execution_count": null,
   "id": "da7535a3",
   "metadata": {},
   "outputs": [],
   "source": [
    "# Check point\n",
    "# Showing list of loaded datasets into FiftyOne\n",
    "print(fo.list_datasets())\n",
    "print()\n"
   ]
  },
  {
   "cell_type": "code",
   "execution_count": null,
   "id": "343af6fb",
   "metadata": {},
   "outputs": [],
   "source": [
    "# Loading datasets into FiftyOne\n",
    "dataset_train = fo.load_dataset(\"cat-dog-elephant-train\")\n",
    "dataset_validation = fo.load_dataset(\"cat-dog-elephant-validation\")\n",
    "dataset_test = fo.load_dataset(\"cat-dog-elephant-test\")\n",
    "\n",
    "dataset_train_copy = fo.load_dataset(\"cat-dog-elephant-train-copy\")\n",
    "dataset_validation_copy = fo.load_dataset(\"cat-dog-elephant-validation-copy\")\n",
    "dataset_test_copy = fo.load_dataset(\"cat-dog-elephant-test-copy\")\n",
    "\n",
    "\n",
    "print(\"Datasets are successfully loaded \\U0001F44C\")\n",
    "print()\n"
   ]
  },
  {
   "cell_type": "code",
   "execution_count": null,
   "id": "a223aef3",
   "metadata": {},
   "outputs": [],
   "source": [
    "# Check point\n",
    "# Showing datasets information\n",
    "print(dataset_train)\n",
    "print()\n",
    "print(dataset_train_copy)\n"
   ]
  },
  {
   "cell_type": "markdown",
   "id": "ef14ad12",
   "metadata": {},
   "source": [
    "&nbsp;"
   ]
  },
  {
   "cell_type": "markdown",
   "id": "e75a47a1",
   "metadata": {},
   "source": [
    "### 💠 2.2 Convert in YOLO format for v4 version"
   ]
  },
  {
   "cell_type": "markdown",
   "id": "c021a610",
   "metadata": {},
   "source": [
    "&nbsp;&nbsp;&nbsp;&nbsp;&nbsp;&nbsp;&nbsp;&nbsp;&nbsp;&nbsp;**YOLOv4Dataset:**  \n",
    "&nbsp;&nbsp;&nbsp;&nbsp;&nbsp;&nbsp;&nbsp;&nbsp;&nbsp;&nbsp;https://voxel51.com/docs/fiftyone/user_guide/export_datasets.html#yolov4dataset"
   ]
  },
  {
   "cell_type": "markdown",
   "id": "9c52ee9a",
   "metadata": {},
   "source": [
    "&nbsp;&nbsp;&nbsp;&nbsp;&nbsp;&nbsp;&nbsp;&nbsp;&nbsp;&nbsp;**Exporting train dataset in YOLO for v4 version**"
   ]
  },
  {
   "cell_type": "code",
   "execution_count": null,
   "id": "18fdaac6",
   "metadata": {},
   "outputs": [],
   "source": [
    "# Preparing directory to export dataset\n",
    "export_dir = os.path.join(directory_custom_dataset, \"yolov4dataset\", \"train\")\n",
    "\n",
    "\n",
    "# The name of the sample field containing the label that you wish to export\n",
    "# Used when exporting labeled datasets (e.g., classification or detection)\n",
    "label_field = \"detections\"\n",
    "# label_field = \"ground_truth\"\n",
    "\n",
    "\n",
    "# The classes to be exported\n",
    "classes = [\"Cat\", \"Dog\", \"Elephant\"]\n",
    "\n",
    "\n",
    "# The type of dataset to export\n",
    "# Any subclass of `fiftyone.types.Dataset` is supported\n",
    "dataset_type = fo.types.YOLOv4Dataset\n",
    "\n",
    "\n",
    "# Export dataset in YOLO format for v4 version\n",
    "dataset_train.export(\n",
    "                     export_dir=export_dir,                          \n",
    "                     dataset_type=dataset_type,\n",
    "                     label_field=label_field,\n",
    "                     classes=classes\n",
    "                    )\n",
    "\n",
    "print()\n"
   ]
  },
  {
   "cell_type": "markdown",
   "id": "f5d3d055",
   "metadata": {},
   "source": [
    "&nbsp;"
   ]
  },
  {
   "cell_type": "markdown",
   "id": "0301933a",
   "metadata": {},
   "source": [
    "&nbsp;&nbsp;&nbsp;&nbsp;&nbsp;&nbsp;&nbsp;&nbsp;&nbsp;&nbsp;**Exporting validation dataset in YOLO for v4 version**"
   ]
  },
  {
   "cell_type": "code",
   "execution_count": null,
   "id": "bc0ef35b",
   "metadata": {
    "scrolled": true
   },
   "outputs": [],
   "source": [
    "# Preparing directory to export dataset\n",
    "export_dir = os.path.join(directory_custom_dataset, \"yolov4dataset\", \"validation\")\n",
    "\n",
    "\n",
    "# The name of the sample field containing the label that you wish to export\n",
    "# Used when exporting labeled datasets (e.g., classification or detection)\n",
    "label_field = \"detections\"\n",
    "# label_field = \"ground_truth\"\n",
    "\n",
    "\n",
    "# The classes to be exported\n",
    "classes = [\"Cat\", \"Dog\", \"Elephant\"]\n",
    "\n",
    "\n",
    "# The type of dataset to export\n",
    "# Any subclass of `fiftyone.types.Dataset` is supported\n",
    "dataset_type = fo.types.YOLOv4Dataset\n",
    "\n",
    "\n",
    "# Export dataset in YOLO format for v4 version\n",
    "dataset_validation.export(\n",
    "                          export_dir=export_dir,                          \n",
    "                          dataset_type=dataset_type,\n",
    "                          label_field=label_field,\n",
    "                          classes=classes\n",
    "                         )\n",
    "\n",
    "print()\n"
   ]
  },
  {
   "cell_type": "markdown",
   "id": "a694682f",
   "metadata": {},
   "source": [
    "&nbsp;"
   ]
  },
  {
   "cell_type": "markdown",
   "id": "873433d5",
   "metadata": {},
   "source": [
    "&nbsp;&nbsp;&nbsp;&nbsp;&nbsp;&nbsp;&nbsp;&nbsp;&nbsp;&nbsp;**Exporting test dataset in YOLO for v4 version**"
   ]
  },
  {
   "cell_type": "code",
   "execution_count": null,
   "id": "74c0e473",
   "metadata": {
    "scrolled": true
   },
   "outputs": [],
   "source": [
    "# Preparing directory to export dataset\n",
    "export_dir = os.path.join(directory_custom_dataset, \"yolov4dataset\", \"test\")\n",
    "\n",
    "\n",
    "# The name of the sample field containing the label that you wish to export\n",
    "# Used when exporting labeled datasets (e.g., classification or detection)\n",
    "label_field = \"detections\"\n",
    "# label_field = \"ground_truth\"\n",
    "\n",
    "\n",
    "# The classes to be exported\n",
    "classes = [\"Cat\", \"Dog\", \"Elephant\"]\n",
    "\n",
    "\n",
    "# The type of dataset to export\n",
    "# Any subclass of `fiftyone.types.Dataset` is supported\n",
    "dataset_type = fo.types.YOLOv4Dataset\n",
    "\n",
    "\n",
    "# Export dataset in YOLO format for v4 version\n",
    "dataset_test.export(\n",
    "                    export_dir=export_dir,                          \n",
    "                    dataset_type=dataset_type,\n",
    "                    label_field=label_field,\n",
    "                    classes=classes\n",
    "                   )\n",
    "\n",
    "print()\n"
   ]
  },
  {
   "cell_type": "markdown",
   "id": "e45c0cf7",
   "metadata": {},
   "source": [
    "&nbsp;"
   ]
  },
  {
   "cell_type": "markdown",
   "id": "237913c0",
   "metadata": {},
   "source": [
    "### 💠 2.3 Convert in YOLO format for v5 version"
   ]
  },
  {
   "cell_type": "markdown",
   "id": "23cf8b0c",
   "metadata": {},
   "source": [
    "&nbsp;&nbsp;&nbsp;&nbsp;&nbsp;&nbsp;&nbsp;&nbsp;&nbsp;&nbsp;**YOLOv5Dataset:**  \n",
    "&nbsp;&nbsp;&nbsp;&nbsp;&nbsp;&nbsp;&nbsp;&nbsp;&nbsp;&nbsp;https://voxel51.com/docs/fiftyone/user_guide/export_datasets.html#yolov5dataset"
   ]
  },
  {
   "cell_type": "markdown",
   "id": "54e895e6",
   "metadata": {},
   "source": [
    "&nbsp;&nbsp;&nbsp;&nbsp;&nbsp;&nbsp;&nbsp;&nbsp;&nbsp;&nbsp;**Exporting full dataset in YOLO for v5 version**"
   ]
  },
  {
   "cell_type": "code",
   "execution_count": null,
   "id": "0539d141",
   "metadata": {},
   "outputs": [],
   "source": [
    "# Preparing directory to export dataset\n",
    "export_dir = os.path.join(directory_custom_dataset, \"yolov5dataset\")\n",
    "\n",
    "\n",
    "# The name of the sample field containing the label that you wish to export\n",
    "# Used when exporting labeled datasets (e.g., classification or detection)\n",
    "label_field = \"detections\"\n",
    "# label_field = \"ground_truth\"\n",
    "\n",
    "\n",
    "# The classes to be exported\n",
    "# All splits must use the same classes list\n",
    "classes = [\"Cat\", \"Dog\", \"Elephant\"]\n",
    "\n",
    "\n",
    "# The splits to export\n",
    "splits = [\"train\", \"validation\", \"test\"]\n",
    "\n",
    "\n",
    "# The type of dataset to export\n",
    "# Any subclass of `fiftyone.types.Dataset` is supported\n",
    "dataset_type = fo.types.YOLOv5Dataset\n",
    "\n",
    "\n",
    "# Export dataset in YOLO format for v5 version\n",
    "for split in splits:\n",
    "    \n",
    "    # Checking if it is 'train' split\n",
    "    if split == \"train\":\n",
    "        # Exporting\n",
    "        dataset_train.export(\n",
    "                             export_dir=export_dir,\n",
    "                             dataset_type=dataset_type,\n",
    "                             label_field=label_field,\n",
    "                             split=split,\n",
    "                             classes=classes,\n",
    "                            )\n",
    "\n",
    "    # Checking if it is 'validation' split\n",
    "    if split == \"validation\":\n",
    "        # Exporting\n",
    "        dataset_validation.export(\n",
    "                                  export_dir=export_dir,\n",
    "                                  dataset_type=dataset_type,\n",
    "                                  label_field=label_field,\n",
    "                                  split=split,\n",
    "                                  classes=classes,\n",
    "                                 )\n",
    "    \n",
    "    # Checking if it is 'test' split\n",
    "    if split == \"test\":\n",
    "        # Exporting\n",
    "        dataset_test.export(\n",
    "                            export_dir=export_dir,\n",
    "                            dataset_type=dataset_type,\n",
    "                            label_field=label_field,\n",
    "                            split=split,\n",
    "                            classes=classes,\n",
    "                           )\n",
    "\n",
    "print()\n"
   ]
  },
  {
   "cell_type": "markdown",
   "id": "033dd047",
   "metadata": {},
   "source": [
    "&nbsp;"
   ]
  },
  {
   "cell_type": "markdown",
   "id": "a59e8d7d",
   "metadata": {},
   "source": [
    "<a name=\"step3\"></a>"
   ]
  },
  {
   "cell_type": "markdown",
   "id": "7539f6a9",
   "metadata": {},
   "source": [
    " ⇧ [Back to Algorithm](#algorithm) &nbsp;&nbsp;&nbsp;&nbsp;&nbsp; ⇧ [Back to Step 2 content](#step2)"
   ]
  },
  {
   "cell_type": "markdown",
   "id": "97455307",
   "metadata": {},
   "source": [
    "# 📥 Step 3: Load converted dataset from hard drive"
   ]
  },
  {
   "cell_type": "markdown",
   "id": "563f592d",
   "metadata": {},
   "source": [
    "&nbsp;&nbsp;&nbsp;&nbsp;&nbsp;&nbsp;&nbsp;&nbsp;&nbsp;&nbsp;📜 **Content:**  \n",
    "\n",
    "&nbsp;&nbsp;&nbsp;&nbsp;&nbsp;&nbsp;&nbsp;&nbsp;&nbsp;&nbsp;💠 3.**1** **Load** from hard drive custom dataset in YOLO format for v4 version  \n",
    "&nbsp;&nbsp;&nbsp;&nbsp;&nbsp;&nbsp;&nbsp;&nbsp;&nbsp;&nbsp;💠 3.**2** **Load** from hard drive custom dataset in YOLO format for v5 version  "
   ]
  },
  {
   "cell_type": "markdown",
   "id": "8d95c411",
   "metadata": {},
   "source": [
    "&nbsp;"
   ]
  },
  {
   "cell_type": "markdown",
   "id": "fb074198",
   "metadata": {},
   "source": [
    "### 💠 3.**1** Load from hard drive custom dataset in YOLO format for v4 version"
   ]
  },
  {
   "cell_type": "markdown",
   "id": "5a6fb734",
   "metadata": {},
   "source": [
    "&nbsp;&nbsp;&nbsp;&nbsp;&nbsp;&nbsp;&nbsp;&nbsp;&nbsp;&nbsp;**Loading dataset from hard drive:**  \n",
    "&nbsp;&nbsp;&nbsp;&nbsp;&nbsp;&nbsp;&nbsp;&nbsp;&nbsp;&nbsp;https://voxel51.com/docs/fiftyone/user_guide/dataset_creation/datasets.html#loading-datasets-from-disk"
   ]
  },
  {
   "cell_type": "code",
   "execution_count": null,
   "id": "6957febb",
   "metadata": {},
   "outputs": [],
   "source": [
    "# Check point\n",
    "# Showing list of loaded datasets into FiftyOne\n",
    "print(fo.list_datasets())\n",
    "print()\n"
   ]
  },
  {
   "cell_type": "markdown",
   "id": "c00cb9ec",
   "metadata": {},
   "source": [
    "&nbsp;&nbsp;&nbsp;&nbsp;&nbsp;&nbsp;&nbsp;&nbsp;&nbsp;&nbsp;**Loading train dataset in YOLO format for v4 version**"
   ]
  },
  {
   "cell_type": "code",
   "execution_count": null,
   "id": "1068211e",
   "metadata": {},
   "outputs": [],
   "source": [
    "# A name for the dataset\n",
    "name = \"cat-dog-elephant-train-yolov4\"\n",
    "\n",
    "\n",
    "# The directory with dataset\n",
    "dataset_dir = os.path.join(directory_custom_dataset, \"yolov4dataset\", \"train\")\n",
    "\n",
    "\n",
    "# The type of the dataset being imported\n",
    "dataset_type = fo.types.YOLOv4Dataset\n",
    "\n",
    "\n",
    "dataset_train_yolov4 = fo.Dataset.from_dir(\n",
    "                                           dataset_dir=dataset_dir,\n",
    "                                           dataset_type=dataset_type,\n",
    "                                           name=name,\n",
    "                                          )\n",
    "\n",
    "print()\n"
   ]
  },
  {
   "cell_type": "code",
   "execution_count": null,
   "id": "17dd35e2",
   "metadata": {},
   "outputs": [],
   "source": [
    "# Make the dataset persistent\n",
    "dataset_train_yolov4.persistent = True\n",
    "\n",
    "\n",
    "# Check point\n",
    "# Showing dataset information\n",
    "print(dataset_train_yolov4)\n",
    "print()\n"
   ]
  },
  {
   "cell_type": "code",
   "execution_count": null,
   "id": "b00a1071",
   "metadata": {},
   "outputs": [],
   "source": [
    "# Loading again dataset into FiftyOne\n",
    "dataset_train_yolov4 = fo.load_dataset(\"cat-dog-elephant-train-yolov4\")\n",
    "\n",
    "\n",
    "# Option 1\n",
    "# Launching the App 1st time, and visualizing the dataset\n",
    "# Creating session instance\n",
    "session = fo.launch_app(dataset_train_yolov4)\n",
    "\n",
    "\n",
    "# Option 2\n",
    "# Updating the session\n",
    "# session.dataset = dataset_train_yolov4\n"
   ]
  },
  {
   "cell_type": "code",
   "execution_count": null,
   "id": "24bba1ff",
   "metadata": {},
   "outputs": [],
   "source": [
    "# Clear the session\n",
    "session.clear_dataset()\n",
    "\n",
    "\n",
    "# Check point\n",
    "print(\"The session is successfully cleared \\U0001F44C\")\n",
    "print()\n"
   ]
  },
  {
   "cell_type": "markdown",
   "id": "d9d3253a",
   "metadata": {},
   "source": [
    "&nbsp;&nbsp;&nbsp;&nbsp;&nbsp;&nbsp;&nbsp;&nbsp;&nbsp;&nbsp;**Loading validation dataset in YOLO format for v4 version**"
   ]
  },
  {
   "cell_type": "code",
   "execution_count": null,
   "id": "08584ea7",
   "metadata": {},
   "outputs": [],
   "source": [
    "# A name for the dataset\n",
    "name = \"cat-dog-elephant-validation-yolov4\"\n",
    "\n",
    "\n",
    "# The directory with dataset\n",
    "dataset_dir = os.path.join(directory_custom_dataset, \"yolov4dataset\", \"validation\")\n",
    "\n",
    "\n",
    "# The type of the dataset being imported\n",
    "dataset_type = fo.types.YOLOv4Dataset\n",
    "\n",
    "\n",
    "dataset_validation_yolov4 = fo.Dataset.from_dir(\n",
    "                                                dataset_dir=dataset_dir,\n",
    "                                                dataset_type=dataset_type,\n",
    "                                                name=name,\n",
    "                                               )\n",
    "\n",
    "print()\n"
   ]
  },
  {
   "cell_type": "code",
   "execution_count": null,
   "id": "ad9cb2cf",
   "metadata": {},
   "outputs": [],
   "source": [
    "# Make the dataset persistent\n",
    "dataset_validation_yolov4.persistent = True\n",
    "\n",
    "\n",
    "# Check point\n",
    "# Showing dataset information\n",
    "print(dataset_validation_yolov4)\n",
    "print()\n",
    "\n"
   ]
  },
  {
   "cell_type": "code",
   "execution_count": null,
   "id": "2f798467",
   "metadata": {},
   "outputs": [],
   "source": [
    "# Loading again dataset into FiftyOne\n",
    "dataset_validation_yolov4 = fo.load_dataset(\"cat-dog-elephant-validation-yolov4\")\n",
    "\n",
    "\n",
    "# Option 1\n",
    "# Launching the App 1st time, and visualizing the dataset\n",
    "# Creating session instance\n",
    "# session = fo.launch_app(dataset_validation_yolov4)\n",
    "\n",
    "\n",
    "# Option 2\n",
    "# Updating the session\n",
    "session.dataset = dataset_validation_yolov4\n"
   ]
  },
  {
   "cell_type": "code",
   "execution_count": null,
   "id": "ad622aa1",
   "metadata": {},
   "outputs": [],
   "source": [
    "# Clear the session\n",
    "session.clear_dataset()\n",
    "\n",
    "\n",
    "# Check point\n",
    "print(\"The session is successfully cleared \\U0001F44C\")\n",
    "print()\n"
   ]
  },
  {
   "cell_type": "markdown",
   "id": "4bee2da9",
   "metadata": {},
   "source": [
    "&nbsp;&nbsp;&nbsp;&nbsp;&nbsp;&nbsp;&nbsp;&nbsp;&nbsp;&nbsp;**Loading test dataset in YOLO format for v4 version**"
   ]
  },
  {
   "cell_type": "code",
   "execution_count": null,
   "id": "10259ea7",
   "metadata": {},
   "outputs": [],
   "source": [
    "# A name for the dataset\n",
    "name = \"cat-dog-elephant-test-yolov4\"\n",
    "\n",
    "\n",
    "# The directory with dataset\n",
    "dataset_dir = os.path.join(directory_custom_dataset, \"yolov4dataset\", \"test\")\n",
    "\n",
    "\n",
    "# The type of the dataset being imported\n",
    "dataset_type = fo.types.YOLOv4Dataset\n",
    "\n",
    "\n",
    "dataset_test_yolov4 = fo.Dataset.from_dir(\n",
    "                                          dataset_dir=dataset_dir,\n",
    "                                          dataset_type=dataset_type,\n",
    "                                          name=name,\n",
    "                                         )\n",
    "\n",
    "print()\n"
   ]
  },
  {
   "cell_type": "code",
   "execution_count": null,
   "id": "90b30d8e",
   "metadata": {},
   "outputs": [],
   "source": [
    "# Make the dataset persistent\n",
    "dataset_test_yolov4.persistent = True\n",
    "\n",
    "\n",
    "# Check point\n",
    "# Showing dataset information\n",
    "print(dataset_test_yolov4)\n",
    "print()\n",
    "\n"
   ]
  },
  {
   "cell_type": "code",
   "execution_count": null,
   "id": "0f651172",
   "metadata": {},
   "outputs": [],
   "source": [
    "# Loading again dataset into FiftyOne\n",
    "dataset_test_yolov4 = fo.load_dataset(\"cat-dog-elephant-test-yolov4\")\n",
    "\n",
    "\n",
    "# Option 1\n",
    "# Launching the App 1st time, and visualizing the dataset\n",
    "# Creating session instance\n",
    "# session = fo.launch_app(dataset_test_yolov4)\n",
    "\n",
    "\n",
    "# Option 2\n",
    "# Updating the session\n",
    "session.dataset = dataset_test_yolov4\n"
   ]
  },
  {
   "cell_type": "code",
   "execution_count": null,
   "id": "d33597d1",
   "metadata": {},
   "outputs": [],
   "source": [
    "# Clear the session\n",
    "session.clear_dataset()\n",
    "\n",
    "\n",
    "# Check point\n",
    "print(\"The session is successfully cleared \\U0001F44C\")\n",
    "print()\n"
   ]
  },
  {
   "cell_type": "markdown",
   "id": "80228b04",
   "metadata": {},
   "source": [
    "&nbsp;"
   ]
  },
  {
   "cell_type": "markdown",
   "id": "561c8933",
   "metadata": {},
   "source": [
    "### 💠 3.2 Load from hard drive custom dataset in YOLO format for v5 version"
   ]
  },
  {
   "cell_type": "markdown",
   "id": "300cc087",
   "metadata": {},
   "source": [
    "&nbsp;&nbsp;&nbsp;&nbsp;&nbsp;&nbsp;&nbsp;&nbsp;&nbsp;&nbsp;**Loading dataset from hard drive:**  \n",
    "&nbsp;&nbsp;&nbsp;&nbsp;&nbsp;&nbsp;&nbsp;&nbsp;&nbsp;&nbsp;https://voxel51.com/docs/fiftyone/user_guide/dataset_creation/datasets.html#loading-datasets-from-disk"
   ]
  },
  {
   "cell_type": "code",
   "execution_count": null,
   "id": "a0be72e8",
   "metadata": {},
   "outputs": [],
   "source": [
    "# Check point\n",
    "# Showing list of loaded datasets into FiftyOne\n",
    "print(fo.list_datasets())\n",
    "print()\n"
   ]
  },
  {
   "cell_type": "markdown",
   "id": "3e1e33cf",
   "metadata": {},
   "source": [
    "&nbsp;&nbsp;&nbsp;&nbsp;&nbsp;&nbsp;&nbsp;&nbsp;&nbsp;&nbsp;**Loading full dataset in YOLO for v5 version**"
   ]
  },
  {
   "cell_type": "code",
   "execution_count": null,
   "id": "8c6b2e0a",
   "metadata": {},
   "outputs": [],
   "source": [
    "# A name for the dataset\n",
    "name = \"cat-dog-elephant-full-yolov5\"\n",
    "\n",
    "\n",
    "# The directory with dataset\n",
    "dataset_dir = os.path.join(directory_custom_dataset, \"yolov5dataset\")\n",
    "\n",
    "\n",
    "# The splits to export\n",
    "splits = [\"train\", \"validation\", \"test\"]\n",
    "\n",
    "\n",
    "# The type of the dataset being imported\n",
    "dataset_type = fo.types.YOLOv5Dataset\n",
    "\n",
    "\n",
    "# Load the dataset\n",
    "dataset_full_yolov5 = fo.Dataset(name)\n",
    "\n",
    "\n",
    "# Using tags to mark the samples in each split\n",
    "for split in splits:\n",
    "    dataset_full_yolov5.add_dir(\n",
    "                                dataset_dir=dataset_dir,\n",
    "                                dataset_type=dataset_type,\n",
    "                                split=split,\n",
    "                                tags=split\n",
    "                               )\n",
    "\n",
    "print()\n"
   ]
  },
  {
   "cell_type": "code",
   "execution_count": null,
   "id": "9b2eb5de",
   "metadata": {},
   "outputs": [],
   "source": [
    "# Make the dataset persistent\n",
    "dataset_full_yolov5.persistent = True\n",
    "\n",
    "\n",
    "# Check point\n",
    "# Showing dataset information\n",
    "print(dataset_full_yolov5)\n",
    "print()\n"
   ]
  },
  {
   "cell_type": "code",
   "execution_count": null,
   "id": "9e5938b1",
   "metadata": {},
   "outputs": [],
   "source": [
    "# Loading again dataset into FiftyOne\n",
    "dataset_full_yolov5 = fo.load_dataset(\"cat-dog-elephant-full-yolov5\")\n",
    "\n",
    "\n",
    "# Option 1\n",
    "# Launching the App 1st time, and visualizing the dataset\n",
    "# Creating session instance\n",
    "# session = fo.launch_app(dataset_full_yolov5)\n",
    "\n",
    "\n",
    "# Option 2\n",
    "# Updating the session\n",
    "session.dataset = dataset_full_yolov5\n"
   ]
  },
  {
   "cell_type": "code",
   "execution_count": null,
   "id": "49713a33",
   "metadata": {},
   "outputs": [],
   "source": [
    "# Clear the session\n",
    "session.clear_dataset()\n",
    "\n",
    "\n",
    "# Check point\n",
    "print(\"The session is successfully cleared \\U0001F44C\")\n",
    "print()\n"
   ]
  },
  {
   "cell_type": "code",
   "execution_count": null,
   "id": "7c2d4e96",
   "metadata": {},
   "outputs": [],
   "source": [
    "# Check point\n",
    "# Showing list of loaded datasets into FiftyOne\n",
    "print(fo.list_datasets())\n",
    "print()\n"
   ]
  },
  {
   "cell_type": "markdown",
   "id": "867124e7",
   "metadata": {},
   "source": [
    " ⇧ [Back to Algorithm](#algorithm)"
   ]
  }
 ],
 "metadata": {
  "kernelspec": {
   "display_name": "Python 3 (ipykernel)",
   "language": "python",
   "name": "python3"
  },
  "language_info": {
   "codemirror_mode": {
    "name": "ipython",
    "version": 3
   },
   "file_extension": ".py",
   "mimetype": "text/x-python",
   "name": "python",
   "nbconvert_exporter": "python",
   "pygments_lexer": "ipython3",
   "version": "3.9.12"
  }
 },
 "nbformat": 4,
 "nbformat_minor": 5
}
