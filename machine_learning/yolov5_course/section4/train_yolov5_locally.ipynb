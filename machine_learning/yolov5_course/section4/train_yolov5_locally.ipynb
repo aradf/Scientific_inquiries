{
 "cells": [
  {
   "cell_type": "markdown",
   "id": "2942eabc",
   "metadata": {},
   "source": [
    "# 🎓 YOLO v5 Objects Detection: Label, Train and Test\n",
    "\n",
    "### &nbsp; &nbsp; 🎛️ Section 4: Train YOLO v5 locally\n",
    "#### &nbsp; &nbsp; &nbsp; 🔣 Lecture: Train YOLO v5 locally\n",
    "\n",
    "&nbsp; &nbsp; &nbsp; &nbsp; &nbsp; &nbsp; &nbsp;**Description:**  \n",
    "&nbsp; &nbsp; &nbsp; &nbsp; &nbsp; &nbsp; &nbsp;*`Run` training of YOLO v5 with custom datasets in the local machine: CPU & GPU.*  \n",
    "&nbsp; &nbsp; &nbsp; &nbsp; &nbsp; &nbsp; &nbsp;*`Manipulate` attributes to manage training process.*  \n",
    "&nbsp; &nbsp; &nbsp; &nbsp; &nbsp; &nbsp; &nbsp;*`Demonstrate` resulted charts after the training.*  \n",
    "\n",
    "&nbsp; &nbsp; &nbsp; &nbsp; &nbsp; &nbsp; &nbsp;**File:** *`train_yolov5_locally.ipynb`*  \n"
   ]
  },
  {
   "cell_type": "markdown",
   "id": "10657b59",
   "metadata": {},
   "source": [
    "### 💡 Algorithm:<a name=\"algorithm\"></a>\n",
    "\n",
    "**✔️ Step 1:** [Set up prerequisites](#step1)  \n",
    "**✔️ Step 2:** [Start training](#step2)  \n",
    "**✔️ Step 3:** [Resume training](#step3)  \n",
    "**✔️ Step 4:** [Visualize results by Tensorboard](#step4)  \n",
    "**✔️ Step 5:** [Validate accuracy results on sub-datasets](#step5)  \n",
    "  \n",
    "  \n",
    "### 🎯 **Results:**  \n",
    "**✅ Graphs** with training results  \n",
    "**✅ Weights**  files - the best found and the last one  \n"
   ]
  },
  {
   "cell_type": "markdown",
   "id": "d901ea62",
   "metadata": {},
   "source": [
    "<a name=\"step1\"></a>"
   ]
  },
  {
   "cell_type": "markdown",
   "id": "d0eccc72",
   "metadata": {},
   "source": [
    " ⇧ [Back to Algorithm](#algorithm)"
   ]
  },
  {
   "cell_type": "markdown",
   "id": "f0d89c6b",
   "metadata": {},
   "source": [
    "# 📥 Step 1: Set up prerequisites"
   ]
  },
  {
   "cell_type": "markdown",
   "id": "8b0719ca",
   "metadata": {},
   "source": [
    "&nbsp;&nbsp;&nbsp;&nbsp;&nbsp;&nbsp;&nbsp;&nbsp;&nbsp;&nbsp;📜 **Content:**  \n",
    "\n",
    "&nbsp;&nbsp;&nbsp;&nbsp;&nbsp;&nbsp;&nbsp;&nbsp;&nbsp;&nbsp;💠 1.**1** **Load** needed libraries  \n",
    "&nbsp;&nbsp;&nbsp;&nbsp;&nbsp;&nbsp;&nbsp;&nbsp;&nbsp;&nbsp;💠 1.**2** **Activate** the main YOLO v5 directory  \n",
    "&nbsp;&nbsp;&nbsp;&nbsp;&nbsp;&nbsp;&nbsp;&nbsp;&nbsp;&nbsp;💠 1.**3** **Verify** GPU availability  \n",
    "&nbsp;&nbsp;&nbsp;&nbsp;&nbsp;&nbsp;&nbsp;&nbsp;&nbsp;&nbsp;💠 1.**4** **Update** YOLO v5  \n",
    "&nbsp;&nbsp;&nbsp;&nbsp;&nbsp;&nbsp;&nbsp;&nbsp;&nbsp;&nbsp;💠 1.**5** **Update** Weights & Biases  \n",
    "&nbsp;&nbsp;&nbsp;&nbsp;&nbsp;&nbsp;&nbsp;&nbsp;&nbsp;&nbsp;💠 1.**6** **Where to find solutions** to the issues?  \n"
   ]
  },
  {
   "cell_type": "markdown",
   "id": "b9dd4510",
   "metadata": {},
   "source": [
    "&nbsp;"
   ]
  },
  {
   "cell_type": "markdown",
   "id": "1f43eaa4",
   "metadata": {},
   "source": [
    "### 💠 1.1 Load needed libraries\n"
   ]
  },
  {
   "cell_type": "code",
   "execution_count": null,
   "id": "033767ea",
   "metadata": {},
   "outputs": [],
   "source": [
    "import os                               # To use operating system dependent functionality\n",
    "import torch                            # To use PyTorch machine learning framework\n",
    "\n",
    "\n",
    "# Check point\n",
    "# Hint: to print emoji via Unicode, replace '+' with '000' and add prefix '\\'\n",
    "# For instance, emoji with Unicode 'U+1F44C' can be printed as '\\U0001F44C'\n",
    "print(\"Libraries are successfully loaded \\U0001F44C\")\n"
   ]
  },
  {
   "cell_type": "markdown",
   "id": "b5dfb859",
   "metadata": {},
   "source": [
    "&nbsp;"
   ]
  },
  {
   "cell_type": "markdown",
   "id": "b84c1d64",
   "metadata": {},
   "source": [
    "### 💠 1.2 Activate the main YOLO v5 directory\n"
   ]
  },
  {
   "cell_type": "code",
   "execution_count": null,
   "id": "12a68406",
   "metadata": {},
   "outputs": [],
   "source": [
    "# Check point\n",
    "# Showing currently active directory\n",
    "print('Currently active directory is:')\n",
    "print(os.getcwd())\n",
    "print()\n",
    "print(os.getcwd()[:-1] + \"1\")\n",
    "print()\n"
   ]
  },
  {
   "cell_type": "code",
   "execution_count": null,
   "id": "a9929a2e",
   "metadata": {},
   "outputs": [],
   "source": [
    "# Preparing directory to be activated\n",
    "d = os.path.join(os.getcwd()[:-1] + \"1\", \"yolov5\")\n",
    "\n",
    "\n",
    "# Check point\n",
    "print('The directory to be activated is:')\n",
    "print(d)\n",
    "print()\n"
   ]
  },
  {
   "cell_type": "code",
   "execution_count": null,
   "id": "909a29b1",
   "metadata": {},
   "outputs": [],
   "source": [
    "# Activating the main YOLO v5 directory\n",
    "os.chdir(d)\n",
    "\n",
    "\n",
    "# Check point\n",
    "print(\"The main YOLO v5 directory is successfully activated \\U0001F44C\")\n",
    "print()\n"
   ]
  },
  {
   "cell_type": "code",
   "execution_count": null,
   "id": "d3e26a52",
   "metadata": {
    "scrolled": true
   },
   "outputs": [],
   "source": [
    "# Check point\n",
    "# Showing currently active directory\n",
    "print('Currently active directory is:')\n",
    "print(os.getcwd())\n",
    "print()\n"
   ]
  },
  {
   "cell_type": "markdown",
   "id": "6d473e07",
   "metadata": {},
   "source": [
    "&nbsp;"
   ]
  },
  {
   "cell_type": "markdown",
   "id": "0b15214a",
   "metadata": {},
   "source": [
    "### 💠 1.3 Verify GPU availability\n"
   ]
  },
  {
   "cell_type": "code",
   "execution_count": null,
   "id": "a0a254fd",
   "metadata": {},
   "outputs": [],
   "source": [
    "# Check point\n",
    "# Checking if Nvidia GPU is available\n",
    "if torch.cuda.is_available():\n",
    "    print(torch.cuda.is_available())\n",
    "    print(torch.cuda.device_count())\n",
    "    print(torch.cuda.current_device())\n",
    "    print(torch.cuda.get_device_name(0))\n",
    "    \n",
    "else:\n",
    "    print(\"There is no Nvidia GPU available or PyTorch is not installed with CUDA\")\n",
    "    print(\"Install PyTorch with CUDA:\")\n",
    "    print(\"https://pytorch.org/get-started/locally/\")\n",
    "    print()\n"
   ]
  },
  {
   "cell_type": "markdown",
   "id": "b9d37da6",
   "metadata": {},
   "source": [
    "&nbsp;"
   ]
  },
  {
   "cell_type": "markdown",
   "id": "73a48424",
   "metadata": {},
   "source": [
    "### 💠 1.4 Update YOLO v5\n"
   ]
  },
  {
   "cell_type": "code",
   "execution_count": null,
   "id": "14d329b7",
   "metadata": {},
   "outputs": [],
   "source": [
    "# Updating YOLO v5\n",
    "# The command will download new files from GitHub and replace old ones\n",
    "# Pay attention! The main YOLO v5 directory must be activated (follow step above)\n",
    "!git pull\n"
   ]
  },
  {
   "cell_type": "markdown",
   "id": "1c4eaa9f",
   "metadata": {},
   "source": [
    "&nbsp;"
   ]
  },
  {
   "cell_type": "markdown",
   "id": "0336b5ae",
   "metadata": {},
   "source": [
    "### 💠 1.5 Update Weights & Biases\n"
   ]
  },
  {
   "cell_type": "markdown",
   "id": "c2e83432",
   "metadata": {},
   "source": [
    "&nbsp;&nbsp;&nbsp;&nbsp;&nbsp;&nbsp;&nbsp;&nbsp; *Usage of this toolkit is optional*  \n",
    "&nbsp;&nbsp;&nbsp;&nbsp;&nbsp;&nbsp;&nbsp;&nbsp; *All the logs will be saved locally and can be visualized after the training by the Tensorboard*  \n"
   ]
  },
  {
   "cell_type": "code",
   "execution_count": null,
   "id": "6df4e6ce",
   "metadata": {},
   "outputs": [],
   "source": [
    "# Updating Weights & Biases\n",
    "# The command will update the toolkit\n",
    "# Use the command for the silent mode with `yes |` (no questions asked, just installation)\n",
    "# !yes | pip install wandb --upgrade\n",
    "!pip install wandb --upgrade\n"
   ]
  },
  {
   "cell_type": "code",
   "execution_count": null,
   "id": "05a20a22",
   "metadata": {},
   "outputs": [],
   "source": [
    "# Verifying that Weights & Biases toolkit is connected to our local machine\n",
    "!wandb online\n"
   ]
  },
  {
   "cell_type": "code",
   "execution_count": null,
   "id": "12a74a3d",
   "metadata": {},
   "outputs": [],
   "source": [
    "# Verifying that we are logged in\n",
    "!wandb login\n"
   ]
  },
  {
   "cell_type": "markdown",
   "id": "5498def2",
   "metadata": {},
   "source": [
    "&nbsp;"
   ]
  },
  {
   "cell_type": "markdown",
   "id": "16aee831",
   "metadata": {},
   "source": [
    "### 💠 1.6 Where to find solutions to the issues?\n"
   ]
  },
  {
   "cell_type": "markdown",
   "id": "ff15a328",
   "metadata": {},
   "source": [
    "> The issues can be experienced **when you run commands** to `train` or `validate` YOLO v5.\n",
    "\n",
    "> To **resolve possible issues**, download PDF file attached to this lecture:  \n",
    "> * It includes **possible solutions** to the most frequent issues.  \n",
    "> * It also includes **links** where to find other solutions.  \n"
   ]
  },
  {
   "cell_type": "markdown",
   "id": "3154bc2c",
   "metadata": {},
   "source": [
    "<a name=\"step2\"></a>"
   ]
  },
  {
   "cell_type": "markdown",
   "id": "d4c3ca12",
   "metadata": {},
   "source": [
    " ⇧ [Back to Algorithm](#algorithm) &nbsp;&nbsp;&nbsp;&nbsp;&nbsp; ⇧ [Back to Step 1 content](#step1)"
   ]
  },
  {
   "cell_type": "markdown",
   "id": "c3001ec9",
   "metadata": {},
   "source": [
    "# 🚀 Step 2: Start training\n"
   ]
  },
  {
   "cell_type": "code",
   "execution_count": null,
   "id": "bc41950d",
   "metadata": {},
   "outputs": [],
   "source": [
    "# Verifying functionality of YOLO v5\n",
    "!python detect.py --help\n"
   ]
  },
  {
   "cell_type": "code",
   "execution_count": null,
   "id": "b0fc1776",
   "metadata": {},
   "outputs": [],
   "source": [
    "# Start training YOLO v5 on custom dataset and 5 epochs only\n",
    "!python train.py --data ..\\..\\section3\\custom_dataset\\yolov5dataset\\dataset_updated.yaml --weights yolov5s.pt --device 0 --epochs 100 --batch-size 2 --workers 0\n"
   ]
  },
  {
   "cell_type": "code",
   "execution_count": null,
   "id": "02506f7e",
   "metadata": {},
   "outputs": [],
   "source": [
    "# Start training YOLO v5 on traffic signs dataset with 4 classes and 100 epochs\n",
    "!python train.py --data ..\\..\\section3\\ts_yolo\\yolov5dataset\\ts4classes\\dataset_updated.yaml --weights yolov5s.pt --device 0 --epochs 100 --batch-size 2 --workers 0\n"
   ]
  },
  {
   "cell_type": "code",
   "execution_count": null,
   "id": "c5de2e5b",
   "metadata": {},
   "outputs": [],
   "source": [
    "# Start training YOLO v5 on traffic signs dataset with 43 classes and 100 epochs\n",
    "!python train.py --data ..\\..\\section3\\ts_yolo\\yolov5dataset\\ts43classes\\dataset_updated.yaml --weights yolov5s.pt --device 0 --epochs 100 --batch-size 2 --workers 0\n"
   ]
  },
  {
   "cell_type": "markdown",
   "id": "a59e8d7d",
   "metadata": {},
   "source": [
    "<a name=\"step3\"></a>"
   ]
  },
  {
   "cell_type": "markdown",
   "id": "7539f6a9",
   "metadata": {},
   "source": [
    " ⇧ [Back to Algorithm](#algorithm) &nbsp;&nbsp;&nbsp;&nbsp;&nbsp; ⇧ [Back to Step 2 content](#step2)"
   ]
  },
  {
   "cell_type": "markdown",
   "id": "97455307",
   "metadata": {},
   "source": [
    "# 🪐 Step 3: Resume training\n"
   ]
  },
  {
   "cell_type": "code",
   "execution_count": null,
   "id": "830bd318",
   "metadata": {},
   "outputs": [],
   "source": [
    "# Automatically find latest checkpoint in yolov5 directory\n",
    "!python train.py --resume\n"
   ]
  },
  {
   "cell_type": "code",
   "execution_count": null,
   "id": "d5531923",
   "metadata": {},
   "outputs": [],
   "source": [
    "# Specify path to the checkpoint to resume training from\n",
    "!python train.py --resume runs\\train\\exp7\\weights\\last.pt\n"
   ]
  },
  {
   "cell_type": "markdown",
   "id": "6d856a8b",
   "metadata": {},
   "source": [
    "<a name=\"step4\"></a>"
   ]
  },
  {
   "cell_type": "markdown",
   "id": "8c8ef961",
   "metadata": {},
   "source": [
    " ⇧ [Back to Algorithm](#algorithm) &nbsp;&nbsp;&nbsp;&nbsp;&nbsp; ⇧ [Back to Step 3 content](#step3)"
   ]
  },
  {
   "cell_type": "markdown",
   "id": "1afe5f14",
   "metadata": {},
   "source": [
    "# 📈 Step 4: Visualize results by Tensorboard\n"
   ]
  },
  {
   "cell_type": "markdown",
   "id": "8ace13d9",
   "metadata": {},
   "source": [
    "> *Pay attention (!)*  \n",
    "> It is needed to **clean previously ran Tensorboard sessions.**  \n",
    "> And **delete temp logs** (not the permanent, that we got after the training).\n",
    "\n",
    "> For Linux, run following in Terminal:  \n",
    "> `rm -rf ./logs/`  \n",
    "\n",
    "> For Windows, run following in CMD (command line) one-by-one:  \n",
    "> `taskkill /im tensorboard.exe /f`  \n",
    "> `del /q %TMP%\\.tensorboard-info\\*`  \n",
    "  \n",
    "> Find **links with extended discussions** and with **more solutions** in **PDF** attached to this lecture.  \n"
   ]
  },
  {
   "cell_type": "code",
   "execution_count": null,
   "id": "4584f363",
   "metadata": {},
   "outputs": [],
   "source": [
    "# Load the TensorBoard notebook extension\n",
    "%load_ext tensorboard\n"
   ]
  },
  {
   "cell_type": "code",
   "execution_count": null,
   "id": "be229a2b",
   "metadata": {},
   "outputs": [],
   "source": [
    "# Option 1\n",
    "# Preparing path to the directory with log file\n",
    "# log_dir_path = os.path.join(\"runs\", \"train\", \"exp7\")\n",
    "\n",
    "\n",
    "# Option 2\n",
    "# Firstly, move log file two levels up, so make the path as short as possible\n",
    "# The log's filename might look like following: events.out.tfevents.1663844461.6404.0\n",
    "log_dir_path = \"runs\"\n",
    "\n",
    "\n",
    "# Tensorboard\n",
    "%tensorboard --logdir {log_dir_path} --host localhost\n"
   ]
  },
  {
   "cell_type": "markdown",
   "id": "9240bff6",
   "metadata": {},
   "source": [
    "<a name=\"step5\"></a>"
   ]
  },
  {
   "cell_type": "markdown",
   "id": "867124e7",
   "metadata": {},
   "source": [
    " ⇧ [Back to Algorithm](#algorithm) &nbsp;&nbsp;&nbsp;&nbsp;&nbsp; ⇧ [Back to Step 4 content](#step4)"
   ]
  },
  {
   "cell_type": "markdown",
   "id": "0d226b33",
   "metadata": {},
   "source": [
    "# 🚦 Step 5: Validate accuracy results on sub-datasets\n"
   ]
  },
  {
   "cell_type": "markdown",
   "id": "f7f969cf",
   "metadata": {},
   "source": [
    "> The issues can be experienced **when you run commands** to `train` or `validate` YOLO v5.\n",
    "\n",
    "> To **resolve possible issues**, download PDF file attached to this lecture:  \n",
    "> * It includes **possible solutions** to the most frequent issues.  \n",
    "> * It also includes **links** where to find other solutions.  \n"
   ]
  },
  {
   "cell_type": "code",
   "execution_count": null,
   "id": "2d45f101",
   "metadata": {},
   "outputs": [],
   "source": [
    "# Validate accuracy on train, val or test sub-datasets\n",
    "# Custom dataset\n",
    "!python val.py --data ..\\..\\section3\\custom_dataset\\yolov5dataset\\dataset_updated.yaml --weights runs\\train\\exp7\\weights\\best.pt --batch-size 2 --workers 0 --device 0 --task test\n"
   ]
  },
  {
   "cell_type": "code",
   "execution_count": null,
   "id": "45b65617",
   "metadata": {},
   "outputs": [],
   "source": [
    "# Validate accuracy on train, val or test sub-datasets\n",
    "# Traffic signs dataset with 4 classes\n",
    "!python val.py --data ..\\..\\section3\\ts_yolo\\yolov5dataset\\ts4classes\\dataset_updated.yaml --weights runs\\train\\exp9\\weights\\best.pt --batch-size 2 --workers 0 --device 0 --task test\n"
   ]
  },
  {
   "cell_type": "code",
   "execution_count": null,
   "id": "c1eb8672",
   "metadata": {},
   "outputs": [],
   "source": [
    "# Validate accuracy on train, val or test sub-datasets\n",
    "# Traffic signs dataset with 43 classes\n",
    "!python val.py --data ..\\..\\section3\\ts_yolo\\yolov5dataset\\ts43classes\\dataset_updated.yaml --weights runs\\train\\exp10\\weights\\best.pt --batch-size 2 --workers 0 --device 0 --task test\n"
   ]
  },
  {
   "cell_type": "markdown",
   "id": "6c6d592b",
   "metadata": {},
   "source": [
    " ⇧ [Back to Algorithm](#algorithm) &nbsp;&nbsp;&nbsp;&nbsp;&nbsp; ⇧ [Back to Step 5 content](#step5)"
   ]
  }
 ],
 "metadata": {
  "kernelspec": {
   "display_name": "Python 3 (ipykernel)",
   "language": "python",
   "name": "python3"
  },
  "language_info": {
   "codemirror_mode": {
    "name": "ipython",
    "version": 3
   },
   "file_extension": ".py",
   "mimetype": "text/x-python",
   "name": "python",
   "nbconvert_exporter": "python",
   "pygments_lexer": "ipython3",
   "version": "3.9.12"
  }
 },
 "nbformat": 4,
 "nbformat_minor": 5
}
